{
 "metadata": {
  "name": "",
  "signature": "sha256:20940bd9aae8dd75e8ac23ca72f494d090bfc327f25e5ed9dbd5a48256eccbc9"
 },
 "nbformat": 3,
 "nbformat_minor": 0,
 "worksheets": [
  {
   "cells": [
    {
     "cell_type": "code",
     "collapsed": false,
     "input": [
      "# Data cleaning process\n",
      "f_raw = open('green_eggs_and_ham.txt', 'r')\n",
      "f_cleaned = open('cleaned.txt', 'w')\n",
      "for line in f_raw.readlines():\n",
      "    if line == '\\n':\n",
      "        continue\n",
      "    text = line.replace('-', ' ')\n",
      "    text = text.replace('!', '')\n",
      "    text = text.replace('?', '')\n",
      "    text = text.replace('.', '')\n",
      "    text = text.replace(',', '')\n",
      "    f_cleaned.write(text.lower()) # lowercase the text\n",
      "f_cleaned.close()\n",
      "f_raw.close()"
     ],
     "language": "python",
     "metadata": {},
     "outputs": [],
     "prompt_number": 27
    },
    {
     "cell_type": "code",
     "collapsed": false,
     "input": [
      "import nltk\n",
      "\n",
      "f_cleaned = open('cleaned.txt', 'r')\n",
      "tokens = nltk.word_tokenize(f_cleaned.read())\n",
      "words = nltk.FreqDist(tokens).most_common()\n",
      "\n",
      "# Check if 50 unique words\n",
      "if len(words) > 50:\n",
      "    result = 'False'\n",
      "else:\n",
      "    result = 'True'\n",
      "f_cleaned.close()\n",
      "\n",
      "# Print result\n",
      "print '{0}, there are {1} unique words'.format(result, len(words))"
     ],
     "language": "python",
     "metadata": {},
     "outputs": [
      {
       "output_type": "stream",
       "stream": "stdout",
       "text": [
        "False, there are 52 unique words\n"
       ]
      }
     ],
     "prompt_number": 42
    },
    {
     "cell_type": "code",
     "collapsed": false,
     "input": [
      "print words"
     ],
     "language": "python",
     "metadata": {},
     "outputs": [
      {
       "output_type": "stream",
       "stream": "stdout",
       "text": [
        "[('not', 83), ('i', 83), ('them', 61), ('a', 60), ('like', 44), ('in', 41), ('do', 36), ('you', 34), ('would', 26), ('and', 24), ('eat', 24), ('will', 21), ('with', 19), ('sam', 18), ('am', 15), ('could', 14), ('here', 11), ('the', 11), ('ham', 10), ('eggs', 10), ('green', 10), ('there', 9), ('train', 9), ('house', 8), ('mouse', 8), ('anywhere', 8), ('or', 8), ('box', 7), ('fox', 7), ('dark', 7), ('on', 7), ('car', 7), ('tree', 7), ('so', 5), ('say', 5), ('be', 4), ('see', 4), ('try', 4), ('goat', 4), ('may', 4), ('me', 4), ('let', 4), ('rain', 4), ('boat', 3), ('that', 3), ('are', 2), ('thank', 2), ('good', 2), ('they', 2), ('if', 1), ('mot', 1), ('d', 1)]\n"
       ]
      }
     ],
     "prompt_number": 38
    }
   ],
   "metadata": {}
  }
 ]
}